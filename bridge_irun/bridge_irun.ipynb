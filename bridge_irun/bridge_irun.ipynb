{
 "cells": [
  {
   "cell_type": "markdown",
   "metadata": {},
   "source": [
    "## Bridge with IRUN"
   ]
  },
  {
   "cell_type": "code",
   "execution_count": 2,
   "metadata": {},
   "outputs": [],
   "source": [
    "import sys\n",
    "import subprocess\n",
    "import threading"
   ]
  },
  {
   "cell_type": "code",
   "execution_count": 3,
   "metadata": {},
   "outputs": [
    {
     "name": "stdout",
     "output_type": "stream",
     "text": [
      "--> STDOUT Thread initialized\n"
     ]
    }
   ],
   "source": [
    "cmd = '/bin/sh' # './rsim -t bridge_test'\n",
    "proc = subprocess.Popen(cmd, \n",
    "                        stdout=subprocess.PIPE,\n",
    "                        stdin=subprocess.PIPE,\n",
    "                        stderr=subprocess.STDOUT)\n",
    "pout = proc.stdout\n",
    "pin = proc.stdin\n",
    "\n",
    "def stdout_loop():\n",
    "    running = True\n",
    "    print(\"--> STDOUT Thread initialized\")\n",
    "    while(running):\n",
    "        line=pout.readline().decode(sys.stdout.encoding)\n",
    "        print(line, end='')\n",
    "        running='\\n' in line\n",
    "    print('Exit Interactive IRUN')\n",
    "\n",
    "# Create Thread\n",
    "threading.Thread(target=stdout_loop).start()"
   ]
  },
  {
   "cell_type": "code",
   "execution_count": 4,
   "metadata": {},
   "outputs": [
    {
     "name": "stdout",
     "output_type": "stream",
     "text": [
      "total 8\n",
      "-rw-rw-r-- 1 leat leat 3217 sep 10 23:20 bridge_irun.ipynb\n",
      "-rw-rw-r-- 1 leat leat 1156 sep 10 21:07 v1.py\n"
     ]
    }
   ],
   "source": [
    "pin.write(b'ls -l\\n')\n",
    "pin.flush()"
   ]
  },
  {
   "cell_type": "code",
   "execution_count": 5,
   "metadata": {},
   "outputs": [
    {
     "name": "stdout",
     "output_type": "stream",
     "text": [
      "/home/leat/gits/interactive\n"
     ]
    }
   ],
   "source": [
    "pin.write(b'pwd\\n')\n",
    "pin.flush()"
   ]
  },
  {
   "cell_type": "code",
   "execution_count": 6,
   "metadata": {},
   "outputs": [
    {
     "name": "stdout",
     "output_type": "stream",
     "text": [
      "bridge_irun.ipynb\n",
      "v1.py\n"
     ]
    }
   ],
   "source": [
    "pin.write(b'ls\\n')\n",
    "pin.flush()"
   ]
  },
  {
   "cell_type": "code",
   "execution_count": 7,
   "metadata": {},
   "outputs": [
    {
     "name": "stdout",
     "output_type": "stream",
     "text": [
      "Exit Interactive IRUN\n"
     ]
    }
   ],
   "source": [
    "pin.write(b'exit\\n')\n",
    "pin.flush()"
   ]
  },
  {
   "cell_type": "code",
   "execution_count": null,
   "metadata": {},
   "outputs": [],
   "source": []
  }
 ],
 "metadata": {
  "kernelspec": {
   "display_name": "Python 3",
   "language": "python",
   "name": "python3"
  },
  "language_info": {
   "codemirror_mode": {
    "name": "ipython",
    "version": 3
   },
   "file_extension": ".py",
   "mimetype": "text/x-python",
   "name": "python",
   "nbconvert_exporter": "python",
   "pygments_lexer": "ipython3",
   "version": "3.5.2"
  }
 },
 "nbformat": 4,
 "nbformat_minor": 2
}
